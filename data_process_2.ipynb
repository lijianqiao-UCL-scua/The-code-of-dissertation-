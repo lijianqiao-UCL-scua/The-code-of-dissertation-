{
 "cells": [
  {
   "cell_type": "code",
   "execution_count": 1,
   "metadata": {},
   "outputs": [],
   "source": [
    "import glob\n",
    "import csv\n",
    "import numpy as np\n",
    "import pandas as pd\n",
    "import dask\n",
    "import dask.dataframe as dd\n",
    "from dask.diagnostics import ProgressBar\n",
    "import swifter\n",
    "import pickle\n",
    "import re\n",
    "import datetime\n",
    "import matplotlib.pyplot as plt\n",
    "import seaborn as sns"
   ]
  },
  {
   "cell_type": "code",
   "execution_count": 2,
   "metadata": {},
   "outputs": [
    {
     "name": "stderr",
     "output_type": "stream",
     "text": [
      "c:\\Users\\20228\\Anaconda3\\lib\\site-packages\\IPython\\core\\interactiveshell.py:3146: DtypeWarning: Columns (5,7) have mixed types.Specify dtype option on import or set low_memory=False.\n",
      "  has_raised = await self.run_ast_nodes(code_ast.body, cell_name,\n"
     ]
    }
   ],
   "source": [
    "riders = pd.read_csv('./ride_date_year.csv')\n"
   ]
  },
  {
   "cell_type": "code",
   "execution_count": 3,
   "metadata": {},
   "outputs": [],
   "source": [
    "riders = riders.dropna(subset=['start_station_id', 'end_station_id']).reset_index()"
   ]
  },
  {
   "cell_type": "code",
   "execution_count": 4,
   "metadata": {},
   "outputs": [],
   "source": [
    "riders['end_station_id'] = riders['end_station_id'].astype('str')"
   ]
  },
  {
   "cell_type": "code",
   "execution_count": 5,
   "metadata": {},
   "outputs": [],
   "source": [
    "riders = riders[(riders['end_station_id'] !='HB101')&(riders['end_station_id'] !='Lab - NYC')\n",
    "&(riders['end_station_id'] !='HB102')&(riders['end_station_id'] !='HB103')\n",
    "&(riders['end_station_id'] !='HB105')&(riders['end_station_id'] !='HB201')\n",
    "&(riders['end_station_id'] !='S 5th St & Kent Ave (Domino Park Movie Shoot)')\n",
    "&(riders['end_station_id'] !='HB203')&(riders['end_station_id'] !='HB301')\n",
    "&(riders['end_station_id'] !='HB302')&(riders['end_station_id'] !='HB303')\n",
    "&(riders['end_station_id'] !='HB304')&(riders['end_station_id'] !='HB305')\n",
    "&(riders['end_station_id'] !='HB401')&(riders['end_station_id'] !='HB402')\n",
    "&(riders['end_station_id'] !='HB404')&(riders['end_station_id'] !='HB407')\n",
    "&(riders['end_station_id'] !='HB408')&(riders['end_station_id'] !='HB409')\n",
    "&(riders['end_station_id'] !='HB501')&(riders['end_station_id'] !='HB502')\n",
    "&(riders['end_station_id'] !='HB502')&(riders['end_station_id'] !='HB503')\n",
    "&(riders['end_station_id'] !='HB505')&(riders['end_station_id'] !='HB506')\n",
    "&(riders['end_station_id'] !='HB507')&(riders['end_station_id'] !='HB601')\n",
    "&(riders['end_station_id'] !='HB602')&(riders['end_station_id'] !='HB603')]"
   ]
  },
  {
   "cell_type": "code",
   "execution_count": 6,
   "metadata": {},
   "outputs": [],
   "source": [
    "riders = riders[(riders['end_station_id'] !='HB202')]"
   ]
  },
  {
   "cell_type": "code",
   "execution_count": 11,
   "metadata": {},
   "outputs": [],
   "source": [
    "riders = riders[(riders['end_station_id'] !='HB607')]"
   ]
  },
  {
   "cell_type": "code",
   "execution_count": 7,
   "metadata": {},
   "outputs": [],
   "source": [
    "riders = riders[(riders['end_station_id'] !='JC011')]"
   ]
  },
  {
   "cell_type": "code",
   "execution_count": 13,
   "metadata": {},
   "outputs": [],
   "source": [
    "riders = riders[(riders['end_station_id'] !='JC108')]"
   ]
  },
  {
   "cell_type": "code",
   "execution_count": null,
   "metadata": {},
   "outputs": [],
   "source": [
    "JC002                                                38\n",
    "JC003                                                 8\n",
    "JC005                                                 3\n",
    "JC006                                                12\n",
    "JC008                                                15\n",
    "JC009                                                13\n",
    "JC011                                                13\n",
    "JC013                                                33\n",
    "JC014                                                 7\n",
    "JC018                                                 3\n",
    "JC019                                                 1\n",
    "JC020                                                 6\n",
    "JC023                                                 1\n",
    "JC024                                                 1\n",
    "JC027                                                30\n",
    "JC032                                                 3\n",
    "JC034                                                 5\n",
    "JC035                                                 7\n",
    "JC038                                                20\n",
    "JC051                                                 1\n",
    "JC052                                                10\n",
    "JC055                                                 8\n",
    "JC056                                                 4\n",
    "JC057                                                 5\n",
    "JC059                                                 5\n",
    "JC065                                                 3\n",
    "JC066                                                23\n",
    "JC072                                                19\n",
    "JC074                                                 3\n",
    "JC075                                                 1\n",
    "JC076                                                 2\n",
    "JC077                                                 3\n",
    "JC081                                                 2\n",
    "JC082                                                 7\n",
    "JC093                                                 1\n",
    "JC095                                                19\n",
    "JC098                                                35\n",
    "JC099                                                 5\n",
    "JC102                                                 9\n",
    "JC103                                                 2\n",
    "JC104                                                32\n",
    "JC105                                                 3\n",
    "JC106                                                21\n",
    "JC108"
   ]
  },
  {
   "cell_type": "code",
   "execution_count": 8,
   "metadata": {},
   "outputs": [],
   "source": [
    "riders = riders[(riders['end_station_id'] !='JC002')&(riders['end_station_id'] !='JC003')\n",
    "&(riders['end_station_id'] !='JC005')&(riders['end_station_id'] !='JC006')\n",
    "&(riders['end_station_id'] !='JC008')&(riders['end_station_id'] !='JC009')\n",
    "&(riders['end_station_id'] !='JC011)')\n",
    "&(riders['end_station_id'] !='JC013')&(riders['end_station_id'] !='JC014')\n",
    "&(riders['end_station_id'] !='JC018')&(riders['end_station_id'] !='JC019')\n",
    "&(riders['end_station_id'] !='JC018')&(riders['end_station_id'] !='JC019')\n",
    "&(riders['end_station_id'] !='JC020')&(riders['end_station_id'] !='JC023')\n",
    "&(riders['end_station_id'] !='JC024')&(riders['end_station_id'] !='JC027')\n",
    "&(riders['end_station_id'] !='JC032')&(riders['end_station_id'] !='JC034')\n",
    "&(riders['end_station_id'] !='JC035')&(riders['end_station_id'] !='JC038')\n",
    "&(riders['end_station_id'] !='JC051')&(riders['end_station_id'] !='JC052')\n",
    "&(riders['end_station_id'] !='JC055')&(riders['end_station_id'] !='JC056')\n",
    "&(riders['end_station_id'] !='JC057')&(riders['end_station_id'] !='JC059')\n",
    "&(riders['end_station_id'] !='JC065')&(riders['end_station_id'] !='JC066')\n",
    "&(riders['end_station_id'] !='JC072')&(riders['end_station_id'] !='JC074')\n",
    "&(riders['end_station_id'] !='JC075')&(riders['end_station_id'] !='JC076')\n",
    "&(riders['end_station_id'] !='JC077')&(riders['end_station_id'] !='JC081')\n",
    "&(riders['end_station_id'] !='JC082')&(riders['end_station_id'] !='JC093')\n",
    "&(riders['end_station_id'] !='JC095')&(riders['end_station_id'] !='JC098')\n",
    "&(riders['end_station_id'] !='JC099')&(riders['end_station_id'] !='JC102')\n",
    "&(riders['end_station_id'] !='JC103')&(riders['end_station_id'] !='JC104')\n",
    "&(riders['end_station_id'] !='JC105')&(riders['end_station_id'] !='JC106')]"
   ]
  },
  {
   "cell_type": "code",
   "execution_count": 9,
   "metadata": {},
   "outputs": [],
   "source": [
    "riders = riders[(riders['end_station_id'] !='SYS007')&(riders['end_station_id'] !='SYS014')\n",
    "&(riders['end_station_id'] !='SYS016')&(riders['end_station_id'] !='SYS028')\n",
    "&(riders['end_station_id'] !='SYS030')&(riders['end_station_id'] !='SYS032')\n",
    "&(riders['end_station_id'] !='SYS033')&(riders['end_station_id'] !='SYS035')\n",
    "&(riders['end_station_id'] !='SYS037')&(riders['end_station_id'] !='SYS038')\n",
    "&(riders['end_station_id'] !='SYS052')]\n"
   ]
  },
  {
   "cell_type": "code",
   "execution_count": 25,
   "metadata": {},
   "outputs": [],
   "source": [
    "riders['end_station_id'] = riders['end_station_id'].astype(str)"
   ]
  },
  {
   "cell_type": "code",
   "execution_count": 14,
   "metadata": {},
   "outputs": [],
   "source": [
    "riders['end_station_id'] = riders['end_station_id'].astype('float64')"
   ]
  },
  {
   "cell_type": "code",
   "execution_count": 15,
   "metadata": {},
   "outputs": [],
   "source": [
    "riders['end_station_id'] = riders['end_station_id'].astype('int64')"
   ]
  },
  {
   "cell_type": "code",
   "execution_count": 16,
   "metadata": {},
   "outputs": [],
   "source": [
    "riders['start_station_id'] = riders['start_station_id'].astype('str')"
   ]
  },
  {
   "cell_type": "code",
   "execution_count": 17,
   "metadata": {},
   "outputs": [],
   "source": [
    "riders = riders[(riders['start_station_id'] !='HB409')&(riders['start_station_id'] !='Lab - NYC')\n",
    "&(riders['start_station_id'] !='SYS016')&(riders['start_station_id'] !='SYS032')\n",
    "&(riders['start_station_id'] !='SYS038')&(riders['start_station_id'] !='SYS052')\n",
    "&(riders['start_station_id'] !='S 5th St & Kent Ave (Domino Park Movie Shoot)')]"
   ]
  },
  {
   "cell_type": "code",
   "execution_count": 18,
   "metadata": {},
   "outputs": [
    {
     "data": {
      "text/html": [
       "<div>\n",
       "<style scoped>\n",
       "    .dataframe tbody tr th:only-of-type {\n",
       "        vertical-align: middle;\n",
       "    }\n",
       "\n",
       "    .dataframe tbody tr th {\n",
       "        vertical-align: top;\n",
       "    }\n",
       "\n",
       "    .dataframe thead th {\n",
       "        text-align: right;\n",
       "    }\n",
       "</style>\n",
       "<table border=\"1\" class=\"dataframe\">\n",
       "  <thead>\n",
       "    <tr style=\"text-align: right;\">\n",
       "      <th></th>\n",
       "      <th>index</th>\n",
       "      <th>ride_id</th>\n",
       "      <th>rideable_type</th>\n",
       "      <th>started_at</th>\n",
       "      <th>ended_at</th>\n",
       "      <th>start_station_name</th>\n",
       "      <th>start_station_id</th>\n",
       "      <th>end_station_name</th>\n",
       "      <th>end_station_id</th>\n",
       "      <th>start_lat</th>\n",
       "      <th>start_lng</th>\n",
       "      <th>end_lat</th>\n",
       "      <th>end_lng</th>\n",
       "      <th>member_casual</th>\n",
       "    </tr>\n",
       "  </thead>\n",
       "  <tbody>\n",
       "  </tbody>\n",
       "</table>\n",
       "</div>"
      ],
      "text/plain": [
       "Empty DataFrame\n",
       "Columns: [index, ride_id, rideable_type, started_at, ended_at, start_station_name, start_station_id, end_station_name, end_station_id, start_lat, start_lng, end_lat, end_lng, member_casual]\n",
       "Index: []"
      ]
     },
     "execution_count": 18,
     "metadata": {},
     "output_type": "execute_result"
    }
   ],
   "source": [
    "riders[riders['start_station_id']==\"S 5th St & Kent Ave (Domino Park Movie Shoot)\"]"
   ]
  },
  {
   "cell_type": "code",
   "execution_count": 19,
   "metadata": {},
   "outputs": [
    {
     "name": "stdout",
     "output_type": "stream",
     "text": [
      "<class 'pandas.core.frame.DataFrame'>\n",
      "Int64Index: 29187597 entries, 0 to 29189842\n",
      "Data columns (total 14 columns):\n",
      " #   Column              Dtype  \n",
      "---  ------              -----  \n",
      " 0   index               int64  \n",
      " 1   ride_id             object \n",
      " 2   rideable_type       object \n",
      " 3   started_at          object \n",
      " 4   ended_at            object \n",
      " 5   start_station_name  object \n",
      " 6   start_station_id    object \n",
      " 7   end_station_name    object \n",
      " 8   end_station_id      int64  \n",
      " 9   start_lat           float64\n",
      " 10  start_lng           float64\n",
      " 11  end_lat             float64\n",
      " 12  end_lng             float64\n",
      " 13  member_casual       object \n",
      "dtypes: float64(4), int64(2), object(8)\n",
      "memory usage: 3.3+ GB\n"
     ]
    }
   ],
   "source": [
    "riders.info()"
   ]
  },
  {
   "cell_type": "code",
   "execution_count": null,
   "metadata": {},
   "outputs": [],
   "source": [
    "riders['start_station_id'] = riders['start_station_id'].astype('float')\n",
    "riders['start_station_id'] = riders['start_station_id'].astype('int')"
   ]
  },
  {
   "cell_type": "code",
   "execution_count": null,
   "metadata": {},
   "outputs": [],
   "source": [
    "# transform the date to datetime\n",
    "riders['started_at'] = riders['started_at'].astype('datetime64')\n",
    "riders['ended_at'] = riders['ended_at'].astype('datetime64')\n"
   ]
  },
  {
   "cell_type": "code",
   "execution_count": null,
   "metadata": {},
   "outputs": [],
   "source": [
    "# create year column\n",
    "riders['year'] = riders.started_at.dt.year\n",
    "\n",
    "# date column\n",
    "riders['start_date'] = riders.started_at.dt.date\n",
    "riders['stop_date'] = riders.started_at.dt.date"
   ]
  },
  {
   "cell_type": "code",
   "execution_count": null,
   "metadata": {},
   "outputs": [],
   "source": [
    "# create year column\n",
    "riders['year'] = riders.started_at.dt.year\n",
    "\n",
    "# date column\n",
    "riders['start_date'] = riders.started_at.dt.date\n",
    "riders['stop_date'] = riders.ended_at.dt.date"
   ]
  },
  {
   "cell_type": "code",
   "execution_count": null,
   "metadata": {},
   "outputs": [],
   "source": [
    "# hour mintue\n",
    "# create hour column\n",
    "riders['start_hour'] = riders.started_at.dt.hour\n",
    "riders['stop_hour'] = riders.ended_at.dt.hour"
   ]
  },
  {
   "cell_type": "code",
   "execution_count": null,
   "metadata": {},
   "outputs": [],
   "source": [
    "# create minutes column\n",
    "riders['start_min'] = riders.started_at.dt.minute\n",
    "riders['stop_min'] = riders.started_at.dt.minute"
   ]
  },
  {
   "cell_type": "code",
   "execution_count": null,
   "metadata": {},
   "outputs": [],
   "source": [
    "# 还是划分为30min一个间隔\n",
    "riders['start_min'] = riders['start_min'].apply(lambda x: 0 if x < 30 else 30)\n",
    "riders['stop_min'] = riders['stop_min'].apply(lambda x: 0 if x < 30 else 30)"
   ]
  },
  {
   "cell_type": "code",
   "execution_count": null,
   "metadata": {},
   "outputs": [],
   "source": [
    "riders['month'] = riders.started_at.dt.month"
   ]
  },
  {
   "cell_type": "code",
   "execution_count": null,
   "metadata": {},
   "outputs": [],
   "source": [
    "riders['season'] = riders.started_at.dt.quarter"
   ]
  },
  {
   "cell_type": "code",
   "execution_count": null,
   "metadata": {},
   "outputs": [],
   "source": [
    "# create day of week column\n",
    "riders['dayofweek'] = riders['started_at'].dt.dayofweek"
   ]
  },
  {
   "cell_type": "code",
   "execution_count": null,
   "metadata": {},
   "outputs": [],
   "source": [
    "riders['tripduration'] = round((riders['ended_at'] - riders['started_at'])/np.timedelta64(1,'m'))"
   ]
  },
  {
   "cell_type": "code",
   "execution_count": null,
   "metadata": {},
   "outputs": [],
   "source": [
    "riders.to_csv(\"./riders_clean.csv\", index=False)"
   ]
  }
 ],
 "metadata": {
  "kernelspec": {
   "display_name": "Python 3.8.5 ('base')",
   "language": "python",
   "name": "python3"
  },
  "language_info": {
   "codemirror_mode": {
    "name": "ipython",
    "version": 3
   },
   "file_extension": ".py",
   "mimetype": "text/x-python",
   "name": "python",
   "nbconvert_exporter": "python",
   "pygments_lexer": "ipython3",
   "version": "3.8.5"
  },
  "orig_nbformat": 4,
  "vscode": {
   "interpreter": {
    "hash": "587a2e50e85b4f56756ab2c01631d0260799c2c0691c88ec45388e613d7a7cba"
   }
  }
 },
 "nbformat": 4,
 "nbformat_minor": 2
}
