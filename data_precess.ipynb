{
 "cells": [
  {
   "cell_type": "code",
   "execution_count": 1,
   "metadata": {},
   "outputs": [],
   "source": [
    "import glob\n",
    "import csv\n",
    "import numpy as np\n",
    "import pandas as pd\n",
    "import dask\n",
    "import dask.dataframe as dd\n",
    "from dask.diagnostics import ProgressBar\n",
    "import swifter\n",
    "import pickle\n",
    "import re\n",
    "import datetime"
   ]
  },
  {
   "cell_type": "code",
   "execution_count": 2,
   "metadata": {},
   "outputs": [
    {
     "name": "stdout",
     "output_type": "stream",
     "text": [
      "Processing ride_data2\\202107-citibike-tripdata.csv\n",
      "Processing ride_data2\\202108-citibike-tripdata.csv\n",
      "Processing ride_data2\\202109-citibike-tripdata.csv\n",
      "Processing ride_data2\\202110-citibike-tripdata.csv\n",
      "Processing ride_data2\\202111-citibike-tripdata.csv\n",
      "Processing ride_data2\\202112-citibike-tripdata.csv\n",
      "Processing ride_data2\\202201-citibike-tripdata.csv\n",
      "Processing ride_data2\\202202-citibike-tripdata.csv\n",
      "Processing ride_data2\\202203-citibike-tripdata.csv\n",
      "Processing ride_data2\\202204-citibike-tripdata.csv\n",
      "Processing ride_data2\\202205-citibike-tripdata.csv\n",
      "Processing ride_data2\\202206-citbike-tripdata.csv\n"
     ]
    }
   ],
   "source": [
    "#合并成一个大的csv\n",
    "output_file = 'ride_date_year.csv'\n",
    "header_written = False\n",
    "\n",
    "with open(output_file,'w',newline=\"\") as fout:\n",
    "    wout = csv.writer(fout,delimiter=',')\n",
    "    # filter out output\n",
    "    interesting_files = [x for x in glob.glob(\"ride_data2/*.csv\") if x != output_file]\n",
    "    for filename in interesting_files:\n",
    "        print('Processing {}'.format(filename))\n",
    "        with open(filename) as fin:\n",
    "            cr = csv.reader(fin,delimiter=\",\")\n",
    "            header = next(cr) #skip header\n",
    "            if not header_written:\n",
    "                wout.writerow(header)\n",
    "                header_written = True\n",
    "            wout.writerows(cr)"
   ]
  },
  {
   "cell_type": "code",
   "execution_count": null,
   "metadata": {},
   "outputs": [],
   "source": []
  }
 ],
 "metadata": {
  "kernelspec": {
   "display_name": "Python 3.8.5 ('base')",
   "language": "python",
   "name": "python3"
  },
  "language_info": {
   "codemirror_mode": {
    "name": "ipython",
    "version": 3
   },
   "file_extension": ".py",
   "mimetype": "text/x-python",
   "name": "python",
   "nbconvert_exporter": "python",
   "pygments_lexer": "ipython3",
   "version": "3.8.5"
  },
  "orig_nbformat": 4,
  "vscode": {
   "interpreter": {
    "hash": "587a2e50e85b4f56756ab2c01631d0260799c2c0691c88ec45388e613d7a7cba"
   }
  }
 },
 "nbformat": 4,
 "nbformat_minor": 2
}
