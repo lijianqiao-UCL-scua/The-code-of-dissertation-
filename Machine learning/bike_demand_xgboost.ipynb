{
 "cells": [
  {
   "cell_type": "code",
   "execution_count": 1,
   "metadata": {},
   "outputs": [],
   "source": [
    "import pandas as pd\n",
    "import pickle\n",
    "import seaborn as sns\n",
    "import sklearn\n",
    "import matplotlib.pyplot as plt\n",
    "import numpy as np\n",
    "from pandas.tseries.holiday import USFederalHolidayCalendar\n",
    "from pandas.tseries.offsets import CustomBusinessMonthBegin\n",
    "import datetime\n",
    "from sklearn.ensemble import RandomForestRegressor\n",
    "from sklearn.model_selection import RandomizedSearchCV\n",
    "from sklearn.metrics import mean_squared_error, mean_absolute_error\n",
    "from sklearn.model_selection import train_test_split\n",
    "from pprint import pprint\n",
    "plt.style.use('fivethirtyeight')"
   ]
  },
  {
   "cell_type": "code",
   "execution_count": 2,
   "metadata": {},
   "outputs": [],
   "source": [
    "rider_df = pd.read_csv('poi_bike_distance_features.csv')"
   ]
  },
  {
   "cell_type": "code",
   "execution_count": 3,
   "metadata": {},
   "outputs": [
    {
     "name": "stdout",
     "output_type": "stream",
     "text": [
      "<class 'pandas.core.frame.DataFrame'>\n",
      "RangeIndex: 8947728 entries, 0 to 8947727\n",
      "Data columns (total 36 columns):\n",
      " #   Column                   Dtype  \n",
      "---  ------                   -----  \n",
      " 0   Unnamed: 0               int64  \n",
      " 1   started_at               object \n",
      " 2   start_station_id         int64  \n",
      " 3   start_lat                float64\n",
      " 4   start_lng                float64\n",
      " 5   rider_demand             int64  \n",
      " 6   bus_dist                 float64\n",
      " 7   subway_dist              float64\n",
      " 8   Population_density       float64\n",
      " 9   Residential              float64\n",
      " 10  Health Services          float64\n",
      " 11  Public Safety            float64\n",
      " 12  Water                    float64\n",
      " 13  Miscellaneous            float64\n",
      " 14  Education Facility       float64\n",
      " 15  Cultural Facility        float64\n",
      " 16  Recreational Facility    float64\n",
      " 17  Social Services          float64\n",
      " 18  Transportation Facility  float64\n",
      " 19  Commercial               float64\n",
      " 20  Government Facility      float64\n",
      " 21  Religious Institution    float64\n",
      " 22  Shape_Leng               float64\n",
      " 23  dayofweek                int64  \n",
      " 24  weekend                  int64  \n",
      " 25  hour                     int64  \n",
      " 26  holidays                 int64  \n",
      " 27  month                    int64  \n",
      " 28  quarter                  int64  \n",
      " 29  dayofyear                int64  \n",
      " 30  year                     int64  \n",
      " 31  season                   int64  \n",
      " 32  date                     object \n",
      " 33  TMP                      float64\n",
      " 34  wind_speed               float64\n",
      " 35  precipitation            float64\n",
      "dtypes: float64(22), int64(12), object(2)\n",
      "memory usage: 2.4+ GB\n"
     ]
    }
   ],
   "source": [
    "rider_df.info()"
   ]
  },
  {
   "cell_type": "code",
   "execution_count": 4,
   "metadata": {},
   "outputs": [],
   "source": [
    "features = rider_df.loc[:,['start_lat', 'start_lng', 'hour', 'dayofyear','dayofweek', 'month','year',\n",
    "                            'bus_dist', 'subway_dist',\n",
    "                            'Population_density','Residential', 'Health Services', 'Public Safety', 'Water',\n",
    "                            'Miscellaneous', 'Education Facility', 'Cultural Facility',\n",
    "                            'Recreational Facility', 'Social Services', 'Transportation Facility',\n",
    "                            'Commercial', 'Government Facility', 'Religious Institution','Shape_Leng','TMP','wind_speed','precipitation']]"
   ]
  },
  {
   "cell_type": "code",
   "execution_count": 5,
   "metadata": {},
   "outputs": [],
   "source": [
    "target = rider_df['rider_demand']\n",
    "features['month'] = features['month'].astype('int')"
   ]
  },
  {
   "cell_type": "code",
   "execution_count": 6,
   "metadata": {},
   "outputs": [],
   "source": [
    "# 构建测试集与训练集\n",
    "from sklearn.model_selection import train_test_split\n",
    "import pandas as pd\n",
    "import numpy as np\n",
    "import matplotlib.pyplot as plt\n",
    "from sklearn.linear_model import LinearRegression\n",
    "from sklearn.metrics import mean_absolute_error, r2_score\n",
    "from sklearn.tree import DecisionTreeRegressor\n",
    "from sklearn.ensemble import RandomForestRegressor\n",
    "from sklearn.metrics import mean_squared_error"
   ]
  },
  {
   "cell_type": "code",
   "execution_count": 7,
   "metadata": {},
   "outputs": [],
   "source": [
    "X_train, X_test, y_train, y_test = train_test_split(features, target, train_size=0.7, random_state=1)"
   ]
  },
  {
   "cell_type": "code",
   "execution_count": 8,
   "metadata": {},
   "outputs": [],
   "source": [
    "import xgboost"
   ]
  },
  {
   "cell_type": "code",
   "execution_count": 9,
   "metadata": {},
   "outputs": [],
   "source": [
    "model = xgboost.XGBRegressor(n_estimators=200).fit(X_train, y_train)"
   ]
  },
  {
   "cell_type": "code",
   "execution_count": 10,
   "metadata": {},
   "outputs": [
    {
     "name": "stdout",
     "output_type": "stream",
     "text": [
      "Train MAE for decision tree:2.0672768393688195\n",
      "Test MAE for decision tree:2.0725876070235754\n",
      "Train r2 score for decision tree:0.7559689022360367\n",
      "Test r2 score for decision tree:0.7546300332364269\n"
     ]
    }
   ],
   "source": [
    "#explainer = shap.Explainer(model)\n",
    "# shap_values = explainer(X_train)\n",
    "# shap.plots.beeswarm(shap_values)\n",
    "predictions_train = model.predict(X_train)\n",
    "predictions_test = model.predict(X_test)\n",
    "mae_train = mean_absolute_error(y_train, predictions_train)\n",
    "mae_test = mean_absolute_error(y_test, predictions_test)\n",
    "r2_train = r2_score(y_train, predictions_train)\n",
    "r2_test = r2_score(y_test, predictions_test)\n",
    "print(f\"Train MAE for decision tree:{mae_train}\")\n",
    "print(f\"Test MAE for decision tree:{mae_test}\")\n",
    "print(f\"Train r2 score for decision tree:{r2_train}\")\n",
    "print(f\"Test r2 score for decision tree:{r2_test}\")"
   ]
  },
  {
   "cell_type": "code",
   "execution_count": 16,
   "metadata": {},
   "outputs": [
    {
     "data": {
      "text/plain": [
       "12.105667027229856"
      ]
     },
     "execution_count": 16,
     "metadata": {},
     "output_type": "execute_result"
    }
   ],
   "source": [
    "mse_train = mean_squared_error(y_train, predictions_train)\n",
    "mse_train\n"
   ]
  },
  {
   "cell_type": "code",
   "execution_count": 18,
   "metadata": {},
   "outputs": [
    {
     "data": {
      "text/plain": [
       "3.479319908722085"
      ]
     },
     "execution_count": 18,
     "metadata": {},
     "output_type": "execute_result"
    }
   ],
   "source": [
    "rmse_train = np.sqrt(mse_train)\n",
    "rmse_train"
   ]
  },
  {
   "cell_type": "code",
   "execution_count": 17,
   "metadata": {},
   "outputs": [
    {
     "data": {
      "text/plain": [
       "12.130893027521097"
      ]
     },
     "execution_count": 17,
     "metadata": {},
     "output_type": "execute_result"
    }
   ],
   "source": [
    "mse_test = mean_squared_error(y_test, predictions_test)\n",
    "mse_test"
   ]
  },
  {
   "cell_type": "code",
   "execution_count": 19,
   "metadata": {},
   "outputs": [
    {
     "data": {
      "text/plain": [
       "3.4829431559416952"
      ]
     },
     "execution_count": 19,
     "metadata": {},
     "output_type": "execute_result"
    }
   ],
   "source": [
    "rmse_test = np.sqrt(mse_test)\n",
    "rmse_test"
   ]
  },
  {
   "cell_type": "code",
   "execution_count": 18,
   "metadata": {},
   "outputs": [
    {
     "name": "stderr",
     "output_type": "stream",
     "text": [
      "ntree_limit is deprecated, use `iteration_range` or model slicing instead.\n"
     ]
    }
   ],
   "source": [
    "explainer = shap.Explainer(model)\n",
    "shap_values = explainer(X_train)\n",
    "shap.plots.beeswarm(shap_values)"
   ]
  }
 ],
 "metadata": {
  "kernelspec": {
   "display_name": "Python 3.10.2 64-bit",
   "language": "python",
   "name": "python3"
  },
  "language_info": {
   "codemirror_mode": {
    "name": "ipython",
    "version": 3
   },
   "file_extension": ".py",
   "mimetype": "text/x-python",
   "name": "python",
   "nbconvert_exporter": "python",
   "pygments_lexer": "ipython3",
   "version": "3.10.2"
  },
  "orig_nbformat": 4,
  "vscode": {
   "interpreter": {
    "hash": "369f2c481f4da34e4445cda3fffd2e751bd1c4d706f27375911949ba6bb62e1c"
   }
  }
 },
 "nbformat": 4,
 "nbformat_minor": 2
}
